{
 "cells": [
  {
   "cell_type": "markdown",
   "metadata": {},
   "source": [
    "# Irist Plant Prediction using SVC and Gaussian algorithms\n",
    "\n",
    "## Initial Code"
   ]
  },
  {
   "cell_type": "code",
   "execution_count": 4,
   "metadata": {},
   "outputs": [
    {
     "name": "stdout",
     "output_type": "stream",
     "text": [
      "Plant features are :  ['sepal length (cm)', 'sepal width (cm)', 'petal length (cm)', 'petal width (cm)']\n",
      "Class labels are :  ['setosa' 'versicolor' 'virginica']\n"
     ]
    }
   ],
   "source": [
    "from sklearn import datasets\n",
    "from sklearn.model_selection import train_test_split\n",
    "\n",
    "iris = datasets.load_iris()\n",
    "\n",
    "# print(type(iris))\n",
    "\n",
    "\n",
    "# print(iris.data)\n",
    "values = iris.data\n",
    "x = values # For accessing data\n",
    "\n",
    "# print(x)\n",
    "# print(values)\n",
    "# print(values[:1,0]) # number of rows, which column\n",
    "\n",
    "# print(type(values))\n",
    "# print(values[:,0]) # to print 0th column's all the rows \n",
    "\n",
    "\n",
    "print(\"Plant features are : \", iris.feature_names) # To represent dataset's column attributes\n",
    "\n",
    "# print(iris.target) # To print class labels values for all data (i.e, resultant predicted values)\n",
    "y = iris.target \n",
    "print(\"Class labels are : \", iris.target_names) # To print names of class labels\n",
    "\n",
    "## x => independent var = dataset\n",
    "## y => dependent var = class labels (that we have to predict, are dependent on x)\n",
    "x_train, x_test, y_train, y_test = train_test_split(x,y,test_size = 0.3)\n",
    "\n"
   ]
  },
  {
   "cell_type": "markdown",
   "metadata": {},
   "source": [
    "\n",
    "## SVC "
   ]
  },
  {
   "cell_type": "code",
   "execution_count": 7,
   "metadata": {},
   "outputs": [
    {
     "name": "stdout",
     "output_type": "stream",
     "text": [
      "Accuracy using SVC :  95.55555555555556\n"
     ]
    }
   ],
   "source": [
    "from sklearn import svm\n",
    "\n",
    "model = svm.SVC(kernel='linear')\n",
    "\n",
    "model.fit(x_train, y_train) #training\n",
    "accuracy = model.score(x_test,y_test) #testing\n",
    "print(\"Accuracy using SVC : \", accuracy*100)\n"
   ]
  },
  {
   "cell_type": "markdown",
   "metadata": {},
   "source": [
    "\n",
    "## Gaussian"
   ]
  },
  {
   "cell_type": "code",
   "execution_count": 8,
   "metadata": {},
   "outputs": [
    {
     "name": "stdout",
     "output_type": "stream",
     "text": [
      "Accuracy using Gaussian :  95.55555555555556\n"
     ]
    }
   ],
   "source": [
    "from sklearn.naive_bayes import GaussianNB\n",
    "# from sklearn.metrics import accuracy_score\n",
    "\n",
    "\n",
    "gnb = GaussianNB() \n",
    "\n",
    "gnb.fit(x_train,y_train)\n",
    "accuracy = gnb.score(x_test,y_test)\n",
    "\n",
    "print(\"Accuracy using Gaussian : \", accuracy*100)\n",
    "\n",
    "# pred = gnb.fit(x_train,y_train).predict(x_test)\n",
    "\n",
    "# print(\"Accuracy : \", accuracy_score(y_test, pred, normalize=True))\n"
   ]
  },
  {
   "cell_type": "code",
   "execution_count": null,
   "metadata": {},
   "outputs": [],
   "source": []
  }
 ],
 "metadata": {
  "kernelspec": {
   "display_name": "Python 3",
   "language": "python",
   "name": "python3"
  },
  "language_info": {
   "codemirror_mode": {
    "name": "ipython",
    "version": 3
   },
   "file_extension": ".py",
   "mimetype": "text/x-python",
   "name": "python",
   "nbconvert_exporter": "python",
   "pygments_lexer": "ipython3",
   "version": "3.6.5"
  }
 },
 "nbformat": 4,
 "nbformat_minor": 2
}
